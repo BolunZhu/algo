{
 "cells": [
  {
   "cell_type": "markdown",
   "metadata": {},
   "source": [
    "# lab1 Stable Match 拓展算法\n",
    "## ACM1601 朱博抡\n",
    "### 1.问题描述\n",
    "• 已知有若干医院和一定数量的学生，每个医院或学生 均对对方有一个偏好排序，请扩展Gale–Shapley算法 使之支持:\n",
    "1. 某些医院可接收多名学生\n",
    "2. 医院数量与学生数量不等"
   ]
  },
  {
   "cell_type": "markdown",
   "metadata": {},
   "source": [
    "### 2.算法描述"
   ]
  },
  {
   "cell_type": "markdown",
   "metadata": {},
   "source": [
    "程序进行时的中间状态用一个表存储起来"
   ]
  },
  {
   "cell_type": "markdown",
   "metadata": {},
   "source": [
    "### 3.算法实现"
   ]
  },
  {
   "cell_type": "code",
   "execution_count": 1,
   "metadata": {},
   "outputs": [],
   "source": [
    "def StableMatch(hospital,student):\n",
    "    \"Stable Match Algorithm\"\n",
    "    len_stu = len(student)\n",
    "    len_hospital = len(hospital)\n",
    "    stu_pri=[[0]*len_stu]*len_hospital\n",
    "    # 第i个医院中学生j的优先级=stu_pri[i][j]\n",
    "    for j in range(len_hospital):\n",
    "        #j = hos\n",
    "        #k = pri\n",
    "        for k in range(len(hospital[j][1])):\n",
    "            stu_pri[j][hospital[j][1][k]] =k\n",
    "\n",
    "    hos_pri= [[0]*len_hospital]*len_stu\n",
    "    # 第i个学生中医院j的优先级=hos_pri[i][j]\n",
    "    for i in range(len_stu):\n",
    "        # i = stu\n",
    "        for j in range(len(student[i])):\n",
    "            hos_pri[i][student[i][j]]= j\n",
    "    \n",
    "    \n",
    "    stu_now=[ -1 for a in range(len_stu)]#学生目前的对象\n",
    "    hos_now = [[] for a in range(len_hospital)] #学校目前的学生\n",
    "    stu_choose = [0]*len_stu     #学生目前的指针\n",
    "    stu_single = [a for a in range(len_stu)] #队列中的学生\n",
    "    while len(stu_single) >0 :\n",
    "        i = stu_single.pop()\n",
    "        #如果这个学生最喜欢的没拒绝过自己的 单身或者没他好\n",
    "        this_hos = student[i][stu_choose[i]]\n",
    "#         print('现在轮到学生',i,'选择自己的医院了','它下个目标是',this_hos,'号医院\\n')\n",
    "        if this_hos == len_hospital :\n",
    "#             print('这个医院是不存在的 所以该学生应该已经完成了所有\\n')\n",
    "            continue\n",
    "        max=hospital[this_hos][0]\n",
    "        hos_love=hospital[this_hos][1]\n",
    "        if max > len(hos_now[this_hos]) :\n",
    "#             print('医院',this_hos,'还没有满 把学生',i,'加入该医院中\\n')\n",
    "            hos_now[this_hos].append(i)#把这个学生加入到医院候选中\n",
    "            stu_now[i] = this_hos #学生目前的对象设置为当前学校\n",
    "            stu_choose[i] = stu_choose[i] + 1\n",
    "        else :\n",
    "#             print('医院',this_hos,'已经满了')\n",
    "            for j in range(len(hos_now[this_hos])) :\n",
    "                if stu_pri[this_hos][hos_now[this_hos][j]] > stu_pri[this_hos][i] :\n",
    "                    #如果选中的这个医院中的第j个学生没有i厉害\n",
    "#                     print('学生',i,'比学生',hos_now[this_hos][j],'更加优先 具体优先表如下 ',stu_pri[this_hos],'\\n')\n",
    "#                     print('因此用学生',i,'替换学生',hos_now[this_hos][j])\n",
    "                    stu_single.append(hos_now[this_hos][j]) #j单身\n",
    "                    hos_now[this_hos][j]=i#j换成i\n",
    "                    stu_now[i] = this_hos #学生目前的对象设置为当前学校\n",
    "                    stu_choose[i] = stu_choose[i] + 1\n",
    "                    break\n",
    "    return [stu_now,hos_now]"
   ]
  },
  {
   "cell_type": "code",
   "execution_count": 2,
   "metadata": {},
   "outputs": [],
   "source": [
    "import random\n",
    "import time\n",
    "num_hospital = 10\n",
    "num_factor = 2\n",
    "num_stu = num_hospital * num_factor\n",
    "#student = [stu1,stu2,stu3]\n",
    "# stu1 = love_list\n",
    "stu_seq = list(range(num_hospital))\n",
    "hos_seq = [ i for i in range(num_stu)]\n",
    "student = [[] for i in range(num_stu) ]\n",
    "hospital = [[2,[]] for i in range(num_hospital)]\n",
    "for i in range(num_stu):\n",
    "    student[i]=random.sample(stu_seq,num_hospital)\n",
    "for i in range(num_hospital):\n",
    "    hospital[i][1]=random.sample(hos_seq,num_stu)\n",
    "# hospital = [ [2, random.shuffle(hos_seq) ]   for i in range(num_hospital)]\n",
    "# hospital = [hos1,hos2,hos3]\n",
    "# hos1= [max,love_list]"
   ]
  },
  {
   "cell_type": "code",
   "execution_count": 3,
   "metadata": {},
   "outputs": [
    {
     "data": {
      "text/plain": [
       "[[7, 3, 2, 4, 6, 8, 9, 5, 1, 0],\n",
       " [7, 9, 5, 8, 6, 3, 2, 4, 1, 0],\n",
       " [1, 9, 3, 0, 2, 4, 5, 7, 8, 6],\n",
       " [0, 2, 3, 1, 8, 9, 6, 5, 7, 4],\n",
       " [0, 2, 8, 5, 1, 3, 9, 7, 6, 4],\n",
       " [7, 9, 5, 8, 4, 3, 0, 1, 6, 2],\n",
       " [3, 5, 4, 0, 7, 2, 8, 1, 9, 6],\n",
       " [0, 2, 4, 8, 3, 9, 6, 5, 1, 7],\n",
       " [9, 6, 2, 1, 8, 7, 4, 0, 3, 5],\n",
       " [2, 1, 9, 0, 4, 3, 7, 8, 6, 5],\n",
       " [9, 5, 7, 2, 0, 4, 1, 6, 8, 3],\n",
       " [4, 3, 5, 2, 9, 0, 1, 7, 6, 8],\n",
       " [7, 5, 0, 1, 4, 3, 6, 2, 8, 9],\n",
       " [9, 4, 7, 6, 1, 0, 5, 8, 3, 2],\n",
       " [4, 8, 6, 3, 1, 5, 0, 2, 7, 9],\n",
       " [9, 3, 2, 5, 6, 0, 8, 4, 7, 1],\n",
       " [8, 0, 1, 5, 7, 2, 4, 9, 6, 3],\n",
       " [3, 9, 5, 0, 4, 2, 1, 8, 7, 6],\n",
       " [8, 9, 6, 3, 2, 1, 5, 4, 7, 0],\n",
       " [5, 6, 3, 7, 4, 2, 8, 0, 9, 1]]"
      ]
     },
     "execution_count": 3,
     "metadata": {},
     "output_type": "execute_result"
    }
   ],
   "source": [
    " student"
   ]
  },
  {
   "cell_type": "code",
   "execution_count": 4,
   "metadata": {},
   "outputs": [
    {
     "data": {
      "text/plain": [
       "[[2, [5, 0, 4, 18, 12, 9, 6, 8, 3, 14, 2, 15, 16, 13, 7, 1, 10, 19, 11, 17]],\n",
       " [2, [1, 16, 0, 4, 5, 19, 12, 7, 13, 17, 3, 6, 9, 8, 11, 10, 14, 2, 15, 18]],\n",
       " [2, [6, 13, 18, 8, 4, 12, 1, 3, 19, 16, 11, 9, 10, 14, 7, 17, 5, 0, 15, 2]],\n",
       " [2, [7, 11, 1, 5, 8, 2, 17, 9, 14, 6, 4, 15, 3, 13, 0, 12, 16, 10, 18, 19]],\n",
       " [2, [16, 11, 3, 6, 14, 7, 15, 9, 5, 12, 1, 10, 19, 8, 17, 4, 18, 2, 13, 0]],\n",
       " [2, [2, 3, 12, 17, 6, 5, 0, 8, 11, 1, 15, 7, 19, 18, 4, 13, 14, 16, 10, 9]],\n",
       " [2, [9, 16, 10, 6, 12, 18, 17, 13, 8, 15, 2, 7, 11, 4, 19, 1, 0, 14, 5, 3]],\n",
       " [2, [5, 9, 6, 19, 3, 8, 1, 18, 15, 7, 12, 16, 17, 2, 4, 11, 14, 13, 10, 0]],\n",
       " [2, [16, 11, 6, 0, 1, 14, 15, 17, 2, 5, 10, 3, 18, 4, 19, 13, 12, 9, 8, 7]],\n",
       " [2, [12, 6, 17, 0, 1, 15, 5, 9, 16, 4, 10, 8, 2, 14, 11, 18, 3, 7, 13, 19]]]"
      ]
     },
     "execution_count": 4,
     "metadata": {},
     "output_type": "execute_result"
    }
   ],
   "source": [
    " hospital"
   ]
  },
  {
   "cell_type": "code",
   "execution_count": 5,
   "metadata": {},
   "outputs": [
    {
     "data": {
      "text/plain": [
       "0.0003650188446044922"
      ]
     },
     "execution_count": 5,
     "metadata": {},
     "output_type": "execute_result"
    }
   ],
   "source": [
    "import time\n",
    "start = time.time()\n",
    "StableMatch(hospital,student)\n",
    "end = time.time()\n",
    "# print('Running time: {} Seconds'.format(end-start))\n",
    "end-start"
   ]
  },
  {
   "cell_type": "markdown",
   "metadata": {},
   "source": [
    "### 4.算法分析"
   ]
  },
  {
   "cell_type": "markdown",
   "metadata": {},
   "source": [
    "10000 268s\n",
    "1000  2.0s\n",
    "100  0.02s\n",
    "10   0.0007s"
   ]
  },
  {
   "cell_type": "code",
   "execution_count": 6,
   "metadata": {},
   "outputs": [],
   "source": [
    "import numpy as np\n",
    "import matplotlib.pyplot as plt\n",
    "x = np.linspace(10,1000,34,dtype = int)\n",
    "y = np.linspace(10,1000,34,dtype = float)\n",
    "y_times = 10\n",
    "for j in range(np.size(x)) :\n",
    "    y_iter = np.zeros(y_times,dtype=float)\n",
    "    num_hospital = x[j]\n",
    "    num_factor = 2\n",
    "    num_stu = num_hospital * num_factor\n",
    "    #student = [stu1,stu2,stu3]\n",
    "    # stu1 = love_list\n",
    "    stu_seq = list(range(num_hospital))\n",
    "    hos_seq = [ i for i in range(num_stu)]\n",
    "    student = [[] for i in range(num_stu) ]\n",
    "    hospital = [[2,[]] for i in range(num_hospital)]\n",
    "    for yy in range(y_times):\n",
    "        for i in range(num_stu):\n",
    "            student[i]=random.sample(stu_seq,num_hospital)\n",
    "        for i in range(num_hospital):\n",
    "            hospital[i][1]=random.sample(hos_seq,num_stu)\n",
    "        start = time.time()\n",
    "        StableMatch(hospital,student)\n",
    "        end = time.time()\n",
    "        y_iter[yy]=end-start\n",
    "    y[j]=y_iter.mean()  \n",
    "    "
   ]
  },
  {
   "cell_type": "code",
   "execution_count": 19,
   "metadata": {},
   "outputs": [
    {
     "data": {
      "image/png": "[encoded data removed]",
      "text/plain": [
       "<Figure size 432x288 with 1 Axes>"
      ]
     },
     "metadata": {
      "needs_background": "light"
     },
     "output_type": "display_data"
    }
   ],
   "source": [
    "plt.plot(x,y,'g',x,0.0000007*x*x,'r',x,0.0000004*x*x,'b')\n",
    "plt.xlabel('input scale')\n",
    "plt.ylabel('time used/s')\n",
    "plt.title('algorithom complexity analyze')\n",
    "plt.show()"
   ]
  }
 ],
 "metadata": {
  "kernelspec": {
   "display_name": "Python conda env:base",
   "language": "python",
   "name": "learn"
  },
  "language_info": {
   "codemirror_mode": {
    "name": "ipython",
    "version": 3
   },
   "file_extension": ".py",
   "mimetype": "text/x-python",
   "name": "python",
   "nbconvert_exporter": "python",
   "pygments_lexer": "ipython3",
   "version": "3.7.0"
  }
 },
 "nbformat": 4,
 "nbformat_minor": 2
}
