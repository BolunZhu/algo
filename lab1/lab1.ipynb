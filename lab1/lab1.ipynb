{
 "cells": [
  {
   "cell_type": "markdown",
   "metadata": {},
   "source": [
    "# lab1 Stable Match 拓展算法\n",
    "## ACM1601 朱博抡\n",
    "### 1.问题描述\n",
    "• 已知有若干医院和一定数量的学生，每个医院或学生 均对对方有一个偏好排序，请扩展Gale–Shapley算法 使之支持:\n",
    "1. 某些医院可接收多名学生\n",
    "2. 医院数量与学生数量不等"
   ]
  },
  {
   "cell_type": "markdown",
   "metadata": {},
   "source": [
    "### 2.算法描述"
   ]
  },
  {
   "cell_type": "markdown",
   "metadata": {},
   "source": [
    "程序进行时的中间状态用一个表存储起来"
   ]
  },
  {
   "cell_type": "markdown",
   "metadata": {},
   "source": [
    "### 3.算法实现"
   ]
  },
  {
   "cell_type": "code",
   "execution_count": 1,
   "metadata": {},
   "outputs": [],
   "source": [
    "def StableMatch(hospital,student):\n",
    "    \"Stable Match Algorithm\"\n",
    "    len_stu = len(student)\n",
    "    len_hospital = len(hospital)\n",
    "    stu_pri=[[0]*len_stu]*len_hospital\n",
    "    # 第i个医院中学生j的优先级=stu_pri[i][j]\n",
    "    for j in range(len_hospital):\n",
    "        #j = hos\n",
    "        #k = pri\n",
    "        for k in range(len(hospital[j][1])):\n",
    "            stu_pri[j][hospital[j][1][k]] =k\n",
    "\n",
    "    hos_pri= [[0]*len_hospital]*len_stu\n",
    "    # 第i个学生中医院j的优先级=hos_pri[i][j]\n",
    "    for i in range(len_stu):\n",
    "        # i = stu\n",
    "        for j in range(len(student[i])):\n",
    "            hos_pri[i][student[i][j]]= j\n",
    "    \n",
    "    \n",
    "    stu_now=[ -1 for a in range(len_stu)]#学生目前的对象\n",
    "    hos_now = [[] for a in range(len_hospital)] #学校目前的学生\n",
    "    stu_choose = [0]*len_stu     #学生目前的指针\n",
    "    stu_single = [a for a in range(len_stu)] #队列中的学生\n",
    "    while len(stu_single) >0 :\n",
    "        i = stu_single.pop()\n",
    "        #如果这个学生最喜欢的没拒绝过自己的 单身或者没他好\n",
    "        this_hos = stu_choose[i]\n",
    "        if this_hos == len_hospital :\n",
    "            continue\n",
    "        max=hospital[this_hos][0]\n",
    "        hos_love=hospital[this_hos][1]\n",
    "        if max > len(hos_now[this_hos]) :\n",
    "            hos_now[this_hos].append(i)#把这个学生加入到医院候选中\n",
    "            stu_now[i] = this_hos #学生目前的对象设置为当前学校\n",
    "            stu_choose[i] = stu_choose[i] + 1\n",
    "        else :\n",
    "            for j in range(len(hos_now[this_hos])) :\n",
    "                if stu_pri[this_hos][hos_now[this_hos][j]] > stu_pri[this_hos][i] :\n",
    "                    #如果选中的这个医院中的第j个学生没有i厉害\n",
    "                    stu_single.append(hos_now[this_hos][j]) #j单身\n",
    "                    hos_now[this_hos][j]=i#j换成i\n",
    "                    stu_now[i] = this_hos #学生目前的对象设置为当前学校\n",
    "                    stu_choose[i] = stu_choose[i] + 1\n",
    "                    continue\n",
    "    return [stu_now,hos_now]"
   ]
  },
  {
   "cell_type": "code",
   "execution_count": 2,
   "metadata": {},
   "outputs": [],
   "source": [
    "num_stu = 6\n",
    "num_hospital = 3\n",
    "#student = [stu1,stu2,stu3]\n",
    "# stu1 = love_list\n",
    "student = [   [j for j in range(num_hospital)] for i in range(num_stu) ]\n",
    "hospital = [ [2, [j for j in range(num_stu)] ]   for i in range(num_hospital)]\n",
    "# hospital = [hos1,hos2,hos3]\n",
    "# hos1= [max,love_list]"
   ]
  },
  {
   "cell_type": "code",
   "execution_count": 3,
   "metadata": {},
   "outputs": [
    {
     "data": {
      "text/plain": [
       "[[0, 1, 2], [0, 1, 2], [0, 1, 2], [0, 1, 2], [0, 1, 2], [0, 1, 2]]"
      ]
     },
     "execution_count": 3,
     "metadata": {},
     "output_type": "execute_result"
    }
   ],
   "source": [
    "student"
   ]
  },
  {
   "cell_type": "code",
   "execution_count": 4,
   "metadata": {},
   "outputs": [
    {
     "data": {
      "text/plain": [
       "[[2, [0, 1, 2, 3, 4, 5]], [2, [0, 1, 2, 3, 4, 5]], [2, [0, 1, 2, 3, 4, 5]]]"
      ]
     },
     "execution_count": 4,
     "metadata": {},
     "output_type": "execute_result"
    }
   ],
   "source": [
    "hospital"
   ]
  },
  {
   "cell_type": "code",
   "execution_count": 5,
   "metadata": {},
   "outputs": [
    {
     "ename": "IndexError",
     "evalue": "list index out of range",
     "output_type": "error",
     "traceback": [
      "\u001b[0;31m---------------------------------------------------------------------------\u001b[0m",
      "\u001b[0;31mIndexError\u001b[0m                                Traceback (most recent call last)",
      "\u001b[0;32m<ipython-input-5-6c98cdbc59ef>\u001b[0m in \u001b[0;36m<module>\u001b[0;34m()\u001b[0m\n\u001b[0;32m----> 1\u001b[0;31m \u001b[0mStableMatch\u001b[0m\u001b[0;34m(\u001b[0m\u001b[0mhospital\u001b[0m\u001b[0;34m,\u001b[0m\u001b[0mstudent\u001b[0m\u001b[0;34m)\u001b[0m\u001b[0;34m\u001b[0m\u001b[0m\n\u001b[0m",
      "\u001b[0;32m<ipython-input-1-da5683d5625b>\u001b[0m in \u001b[0;36mStableMatch\u001b[0;34m(hospital, student)\u001b[0m\n\u001b[1;32m     29\u001b[0m         \u001b[0;32mif\u001b[0m \u001b[0mthis_hos\u001b[0m \u001b[0;34m==\u001b[0m \u001b[0mlen_hospital\u001b[0m \u001b[0;34m:\u001b[0m\u001b[0;34m\u001b[0m\u001b[0m\n\u001b[1;32m     30\u001b[0m             \u001b[0;32mcontinue\u001b[0m\u001b[0;34m\u001b[0m\u001b[0m\n\u001b[0;32m---> 31\u001b[0;31m         \u001b[0mmax\u001b[0m\u001b[0;34m=\u001b[0m\u001b[0mhospital\u001b[0m\u001b[0;34m[\u001b[0m\u001b[0mthis_hos\u001b[0m\u001b[0;34m]\u001b[0m\u001b[0;34m[\u001b[0m\u001b[0;36m0\u001b[0m\u001b[0;34m]\u001b[0m\u001b[0;34m\u001b[0m\u001b[0m\n\u001b[0m\u001b[1;32m     32\u001b[0m         \u001b[0mhos_love\u001b[0m\u001b[0;34m=\u001b[0m\u001b[0mhospital\u001b[0m\u001b[0;34m[\u001b[0m\u001b[0mthis_hos\u001b[0m\u001b[0;34m]\u001b[0m\u001b[0;34m[\u001b[0m\u001b[0;36m1\u001b[0m\u001b[0;34m]\u001b[0m\u001b[0;34m\u001b[0m\u001b[0m\n\u001b[1;32m     33\u001b[0m         \u001b[0;32mif\u001b[0m \u001b[0mmax\u001b[0m \u001b[0;34m>\u001b[0m \u001b[0mlen\u001b[0m\u001b[0;34m(\u001b[0m\u001b[0mhos_now\u001b[0m\u001b[0;34m[\u001b[0m\u001b[0mthis_hos\u001b[0m\u001b[0;34m]\u001b[0m\u001b[0;34m)\u001b[0m \u001b[0;34m:\u001b[0m\u001b[0;34m\u001b[0m\u001b[0m\n",
      "\u001b[0;31mIndexError\u001b[0m: list index out of range"
     ]
    }
   ],
   "source": [
    "StableMatch(hospital,student)"
   ]
  },
  {
   "cell_type": "code",
   "execution_count": null,
   "metadata": {},
   "outputs": [],
   "source": [
    "ha"
   ]
  },
  {
   "cell_type": "code",
   "execution_count": null,
   "metadata": {},
   "outputs": [],
   "source": []
  }
 ],
 "metadata": {
  "kernelspec": {
   "display_name": "Python conda env:base",
   "language": "python",
   "name": "learn"
  },
  "language_info": {
   "codemirror_mode": {
    "name": "ipython",
    "version": 3
   },
   "file_extension": ".py",
   "mimetype": "text/x-python",
   "name": "python",
   "nbconvert_exporter": "python",
   "pygments_lexer": "ipython3",
   "version": "3.7.0"
  }
 },
 "nbformat": 4,
 "nbformat_minor": 2
}
