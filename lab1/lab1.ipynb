{
 "cells": [
  {
   "cell_type": "markdown",
   "metadata": {},
   "source": [
    "# lab1 Stable Match 拓展算法\n",
    "## ACM1601 朱博抡\n",
    "### 1.问题描述\n",
    "• 已知有若干医院和一定数量的学生，每个医院或学生 均对对方有一个偏好排序，请扩展Gale–Shapley算法 使之支持:\n",
    "1. 某些医院可接收多名学生\n",
    "2. 医院数量与学生数量不等"
   ]
  },
  {
   "cell_type": "markdown",
   "metadata": {},
   "source": [
    "### 2.算法描述"
   ]
  },
  {
   "cell_type": "markdown",
   "metadata": {},
   "source": [
    "程序进行时的中间状态用一个表存储起来"
   ]
  },
  {
   "cell_type": "markdown",
   "metadata": {},
   "source": [
    "### 3.算法实现"
   ]
  },
  {
   "cell_type": "code",
   "execution_count": 1,
   "metadata": {},
   "outputs": [],
   "source": [
    "def StableMatch(hospital,student):\n",
    "    \"Stable Match Algorithm\"\n",
    "    len_stu = len(student)\n",
    "    len_hospital = len(hospital)\n",
    "    stu_pri=[[0]*len_stu]*len_hospital\n",
    "    # 第i个医院中学生j的优先级=stu_pri[i][j]\n",
    "    for j in range(len_hospital):\n",
    "        #j = hos\n",
    "        #k = pri\n",
    "        for k in range(len(hospital[j][1])):\n",
    "            stu_pri[j][hospital[j][1][k]] =k\n",
    "\n",
    "    hos_pri= [[0]*len_hospital]*len_stu\n",
    "    # 第i个学生中医院j的优先级=hos_pri[i][j]\n",
    "    for i in range(len_stu):\n",
    "        # i = stu\n",
    "        for j in range(len(student[i])):\n",
    "            hos_pri[i][student[i][j]]= j\n",
    "    \n",
    "    \n",
    "    stu_now=[ -1 for a in range(len_stu)]#学生目前的对象\n",
    "    hos_now = [[] for a in range(len_hospital)] #学校目前的学生\n",
    "    stu_choose = [0]*len_stu     #学生目前的指针\n",
    "    stu_single = [a for a in range(len_stu)] #队列中的学生\n",
    "    while len(stu_single) >0 :\n",
    "        i = stu_single.pop()\n",
    "        #如果这个学生最喜欢的没拒绝过自己的 单身或者没他好\n",
    "        this_hos = student[i][stu_choose[i]]\n",
    "#         print('现在轮到学生',i,'选择自己的医院了','它下个目标是',this_hos,'号医院\\n')\n",
    "        if this_hos == len_hospital :\n",
    "#             print('这个医院是不存在的 所以该学生应该已经完成了所有\\n')\n",
    "            continue\n",
    "        max=hospital[this_hos][0]\n",
    "        hos_love=hospital[this_hos][1]\n",
    "        if max > len(hos_now[this_hos]) :\n",
    "#             print('医院',this_hos,'还没有满 把学生',i,'加入该医院中\\n')\n",
    "            hos_now[this_hos].append(i)#把这个学生加入到医院候选中\n",
    "            stu_now[i] = this_hos #学生目前的对象设置为当前学校\n",
    "            stu_choose[i] = stu_choose[i] + 1\n",
    "        else :\n",
    "#             print('医院',this_hos,'已经满了')\n",
    "            for j in range(len(hos_now[this_hos])) :\n",
    "                if stu_pri[this_hos][hos_now[this_hos][j]] > stu_pri[this_hos][i] :\n",
    "                    #如果选中的这个医院中的第j个学生没有i厉害\n",
    "#                     print('学生',i,'比学生',hos_now[this_hos][j],'更加优先 具体优先表如下 ',stu_pri[this_hos],'\\n')\n",
    "#                     print('因此用学生',i,'替换学生',hos_now[this_hos][j])\n",
    "                    stu_single.append(hos_now[this_hos][j]) #j单身\n",
    "                    hos_now[this_hos][j]=i#j换成i\n",
    "                    stu_now[i] = this_hos #学生目前的对象设置为当前学校\n",
    "                    stu_choose[i] = stu_choose[i] + 1\n",
    "                    break\n",
    "    return [stu_now,hos_now]"
   ]
  },
  {
   "cell_type": "code",
   "execution_count": 2,
   "metadata": {},
   "outputs": [],
   "source": [
    "import random\n",
    "import time\n",
    "num_hospital = 10\n",
    "num_factor = 2\n",
    "num_stu = num_hospital * num_factor\n",
    "#student = [stu1,stu2,stu3]\n",
    "# stu1 = love_list\n",
    "a = 1.555\n",
    "b = 234.12\n",
    "stu_seq = list(range(num_hospital))\n",
    "hos_seq = [ i for i in range(num_stu)]\n",
    "student = [[] for i in range(num_stu) ]\n",
    "hospital = [[2,[]] for i in range(num_hospital)]\n",
    "for i in range(num_stu):\n",
    "    student[i]=random.sample(stu_seq,num_hospital)\n",
    "for i in range(num_hospital):\n",
    "    hospital[i][1]=random.sample(hos_seq,num_stu)\n",
    "# hospital = [ [2, random.shuffle(hos_seq) ]   for i in range(num_hospital)]\n",
    "# hospital = [hos1,hos2,hos3]\n",
    "# hos1= [max,love_list]"
   ]
  },
  {
   "cell_type": "code",
   "execution_count": 3,
   "metadata": {},
   "outputs": [
    {
     "data": {
      "text/plain": [
       "[[9, 1, 0, 6, 3, 4, 8, 2, 5, 7],\n",
       " [5, 6, 4, 2, 8, 3, 1, 9, 7, 0],\n",
       " [8, 7, 1, 2, 3, 9, 5, 0, 6, 4],\n",
       " [2, 3, 6, 1, 4, 7, 8, 9, 0, 5],\n",
       " [3, 2, 4, 9, 5, 7, 6, 1, 8, 0],\n",
       " [5, 7, 4, 1, 8, 0, 6, 3, 2, 9],\n",
       " [6, 5, 8, 9, 1, 7, 0, 3, 2, 4],\n",
       " [7, 8, 5, 6, 2, 3, 9, 0, 1, 4],\n",
       " [1, 0, 8, 4, 3, 6, 7, 5, 2, 9],\n",
       " [3, 4, 9, 5, 6, 7, 8, 0, 2, 1],\n",
       " [9, 3, 7, 1, 0, 2, 4, 8, 6, 5],\n",
       " [8, 2, 9, 3, 6, 4, 5, 0, 1, 7],\n",
       " [5, 7, 1, 9, 0, 2, 3, 4, 6, 8],\n",
       " [8, 4, 0, 7, 6, 2, 5, 9, 1, 3],\n",
       " [1, 2, 7, 3, 0, 5, 9, 6, 4, 8],\n",
       " [9, 6, 7, 5, 2, 1, 0, 3, 8, 4],\n",
       " [0, 5, 2, 4, 9, 8, 7, 1, 6, 3],\n",
       " [7, 0, 1, 8, 5, 4, 3, 9, 6, 2],\n",
       " [3, 6, 5, 9, 1, 7, 4, 2, 0, 8],\n",
       " [8, 2, 7, 3, 6, 1, 0, 5, 4, 9]]"
      ]
     },
     "execution_count": 3,
     "metadata": {},
     "output_type": "execute_result"
    }
   ],
   "source": [
    " student"
   ]
  },
  {
   "cell_type": "code",
   "execution_count": 4,
   "metadata": {},
   "outputs": [
    {
     "data": {
      "text/plain": [
       "[[2, [7, 5, 4, 12, 13, 17, 6, 2, 3, 1, 9, 10, 11, 14, 15, 0, 8, 19, 18, 16]],\n",
       " [2, [17, 15, 18, 8, 7, 1, 5, 11, 3, 2, 10, 4, 0, 9, 16, 12, 6, 19, 14, 13]],\n",
       " [2, [16, 0, 17, 13, 3, 5, 4, 14, 9, 6, 11, 12, 2, 7, 10, 1, 19, 15, 18, 8]],\n",
       " [2, [19, 12, 13, 2, 3, 5, 9, 7, 14, 16, 18, 1, 4, 17, 11, 8, 10, 0, 15, 6]],\n",
       " [2, [17, 0, 14, 11, 19, 10, 5, 18, 7, 13, 12, 9, 1, 16, 8, 2, 3, 4, 6, 15]],\n",
       " [2, [18, 14, 1, 7, 6, 3, 13, 15, 4, 8, 16, 5, 17, 2, 0, 11, 9, 10, 19, 12]],\n",
       " [2, [6, 15, 19, 3, 12, 9, 4, 0, 17, 1, 16, 11, 18, 5, 8, 14, 2, 13, 10, 7]],\n",
       " [2, [17, 6, 2, 10, 1, 4, 8, 19, 15, 11, 9, 16, 5, 13, 18, 0, 12, 3, 14, 7]],\n",
       " [2, [18, 19, 12, 10, 8, 16, 7, 15, 6, 14, 4, 9, 1, 0, 17, 11, 5, 3, 2, 13]],\n",
       " [2, [17, 11, 6, 7, 18, 3, 12, 9, 5, 2, 16, 13, 19, 15, 4, 8, 14, 1, 0, 10]]]"
      ]
     },
     "execution_count": 4,
     "metadata": {},
     "output_type": "execute_result"
    }
   ],
   "source": [
    " hospital"
   ]
  },
  {
   "cell_type": "code",
   "execution_count": 5,
   "metadata": {},
   "outputs": [
    {
     "name": "stdout",
     "output_type": "stream",
     "text": [
      "Running time: 0.0002560615539550781 Seconds\n"
     ]
    }
   ],
   "source": [
    "import time\n",
    "start = time.time()\n",
    "StableMatch(hospital,student)\n",
    "end = time.time()\n",
    "print('Running time: {} Seconds'.format(end-start))"
   ]
  },
  {
   "cell_type": "markdown",
   "metadata": {},
   "source": [
    "### 4.算法分析"
   ]
  },
  {
   "cell_type": "markdown",
   "metadata": {},
   "source": [
    "10000 268s\n",
    "1000  2.0s\n",
    "100  0.02s\n",
    "10   0.0007s"
   ]
  },
  {
   "cell_type": "code",
   "execution_count": null,
   "metadata": {},
   "outputs": [],
   "source": []
  }
 ],
 "metadata": {
  "kernelspec": {
   "display_name": "Python conda env:base",
   "language": "python",
   "name": "learn"
  },
  "language_info": {
   "codemirror_mode": {
    "name": "ipython",
    "version": 3
   },
   "file_extension": ".py",
   "mimetype": "text/x-python",
   "name": "python",
   "nbconvert_exporter": "python",
   "pygments_lexer": "ipython3",
   "version": "3.7.0"
  }
 },
 "nbformat": 4,
 "nbformat_minor": 2
}
