{
 "cells": [
  {
   "cell_type": "markdown",
   "metadata": {},
   "source": [
    "# 最近点对\n",
    "## 问题描述\n",
    "    • 已知: 二维平面上的n个点，坐标(xi, yi).\n",
    "    • 目标: 输出欧氏距离最近的点对 及对应距离\n",
    "    • 要求:\n",
    "    给出算法描述，以及算法的合理性分析 编写该算法的程序 用自行设计测试数据测试程序，输出测试结果。"
   ]
  },
  {
   "cell_type": "markdown",
   "metadata": {},
   "source": [
    "## 问题分析\n",
    "    大致思路就是使用分治法去做，将点按照x坐标排序，然后分成两部分，分别求出两边的最小距离。\n",
    "    然后取最小距离的最小值，得到一个2d的区间，对该区间中的一边的每一个点，检查另外一边的6的位置即可。\n",
    "    问题在于细节上如何实现。"
   ]
  },
  {
   "cell_type": "code",
   "execution_count": 1,
   "metadata": {},
   "outputs": [],
   "source": []
  },
  {
   "cell_type": "code",
   "execution_count": null,
   "metadata": {},
   "outputs": [],
   "source": []
  }
 ],
 "metadata": {
  "kernelspec": {
   "display_name": "Python conda env:base",
   "language": "python",
   "name": "learn"
  },
  "language_info": {
   "codemirror_mode": {
    "name": "ipython",
    "version": 3
   },
   "file_extension": ".py",
   "mimetype": "text/x-python",
   "name": "python",
   "nbconvert_exporter": "python",
   "pygments_lexer": "ipython3",
   "version": "3.7.0"
  }
 },
 "nbformat": 4,
 "nbformat_minor": 2
}
