{
 "cells": [
  {
   "cell_type": "markdown",
   "metadata": {},
   "source": [
    "# 字符串对比问题 Sequence Alignment\n",
    "\n",
    "## 问题描述\n",
    "    1) c(i,j): xi to yj (Equals 0 if match, otherwise >0) \n",
    "    2) a(i): leaving out xi (>0)\n",
    "    3) b(j):leaving out yj (>0)\n",
    "    要求:\n",
    "    请给出最小成本的一个比对\n",
    "     给出算法的两种动态规划描述\n",
    "     编写其中一种算法的程序\n",
    "     编制测试数据，给出实验结果:给出几个不同的数据集进行测试。\n"
   ]
  },
  {
   "cell_type": "markdown",
   "metadata": {},
   "source": [
    "## 思路分析\n",
    "### 问题定义\n",
    "    我们的教材首先从生物学中引出了一个概念叫做similarity。\n",
    "    对于两个序列X（x1，x2，，，xn） 和 Y（y1，y2，，，ym）\n",
    "    M(Matching)为他们之间的一种alignment（理解为一种映射）是一个集合，元素为x与y下标的二元组。\n",
    "    如下例  他们的M为{(2,1),(3,2),(4,3)} \n",
    "    stop-\n",
    "    -tops\n",
    "    M满足 if(x1,y1) (x2,y2) in M x1>x2 then : y1>y2\n",
    "    Cost of M = sum of （gap penalty） and （mismatch cost）\n",
    "    我们的目的就是想办法就是寻找最小cost\n",
    "    考虑(m,n)只可能在M中或者不在M中。如果(m,n)不在M中,则要么m不在m中要么n不在M中.\n",
    "    i. (m,n) in M\n",
    "    ii. m is not in M\n",
    "    iii. n is not in M\n",
    "    For i : OPT(m,n)=c(i,j)+OPT(m-1,n-1)\n",
    "    for ii: OPT(m,n)=a(m)+OPT(m-1,n)\n",
    "    for iii:OPT(m,n)=b(n)+OPT(m,n-1)\n",
    "    Hence: OPT(m,n)=min{c(i,j)+OPT(m-1,n-1),a(m)+OPT(m-1,n),b(n)+OPT(m,n-1)}\n",
    "    然后老师把题目改了，大概就是c(i,j)=constance c a(m)=const a b(n)=const b\n",
    "    于是 OPT(m,n)=min{c+OPT(m-1,n-1),a+OPT(m-1,n),b+OPT(m,n-1)}\n",
    "### 算法思路\n",
    "    使用一个二维数组存放OPT(m,n).\n",
    "    初始化数组OPT(i,0)=i*a OPT(0,j)=j*b\n",
    "    for j = 1 to n:\n",
    "        for i = 1 to m:\n",
    "            OPT(m,n)=min{c(i,j)+OPT(m-1,n-1),a(m)+OPT(m-1,n),b(n)+OPT(m,n-1)}\n",
    "    Return OPT(m,n)\n",
    "### 算法复杂度分析\n",
    "    Running time si O(mn) since array OPT has O(mn) 次计算 每次最差都是常数次计算\n"
   ]
  },
  {
   "cell_type": "code",
   "execution_count": 38,
   "metadata": {},
   "outputs": [
    {
     "data": {
      "text/plain": [
       "(1, 1, 1, '1111a111', 'g1110311')"
      ]
     },
     "execution_count": 38,
     "metadata": {},
     "output_type": "execute_result"
    }
   ],
   "source": [
    "a=1\n",
    "b=1\n",
    "c=1\n",
    "strA = '1111a111'\n",
    "strB = 'g1110311'\n",
    "OPT = [ [0 for j in range(len(strB)+1)] for i in range(len(strA)+1)]\n",
    "Input = (a,b,c,strA,strB)\n",
    "Input"
   ]
  },
  {
   "cell_type": "code",
   "execution_count": 39,
   "metadata": {},
   "outputs": [],
   "source": [
    "def Sequence_Alignment(Input):\n",
    "    \"Sequence_Alignment Dynamic Algorithm\"\n",
    "    (a,b,c,strA,strB) = Input\n",
    "    m=len(strA)\n",
    "    n=len(strB)\n",
    "    OPT = [ [0 for j in range(n+1)] for i in range(m+1)]\n",
    "    #initial\n",
    "    for i in range(m+1):\n",
    "        OPT[i][0]= i*a\n",
    "    for i in range(n+1):\n",
    "        OPT[0][i]= i*b\n",
    "    for j in range(1,n+1):\n",
    "        for i in range(1,m+1):\n",
    "            if strA[i-1]==strB[j-1]:\n",
    "                OPT[i][j] = min(OPT[i-1][j-1],OPT[i-1][j]+a,OPT[i][j-1]+b) \n",
    "            else :\n",
    "                OPT[i][j] = min(OPT[i-1][j-1]+c,OPT[i-1][j]+a,OPT[i][j-1]+b)\n",
    "    print(OPT)\n",
    "    return OPT[m][n]"
   ]
  },
  {
   "cell_type": "code",
   "execution_count": 40,
   "metadata": {},
   "outputs": [
    {
     "name": "stdout",
     "output_type": "stream",
     "text": [
      "[[0, 1, 2, 3, 4, 5, 6, 7, 8], [1, 1, 1, 2, 3, 4, 5, 6, 7], [2, 2, 1, 1, 2, 3, 4, 5, 6], [3, 3, 2, 1, 1, 2, 3, 4, 5], [4, 4, 3, 2, 1, 2, 3, 3, 4], [5, 5, 4, 3, 2, 2, 3, 4, 4], [6, 6, 5, 4, 3, 3, 3, 3, 4], [7, 7, 6, 5, 4, 4, 4, 3, 3], [8, 8, 7, 6, 5, 5, 5, 4, 3]]\n"
     ]
    },
    {
     "data": {
      "text/plain": [
       "3"
      ]
     },
     "execution_count": 40,
     "metadata": {},
     "output_type": "execute_result"
    }
   ],
   "source": [
    "Sequence_Alignment(Input)"
   ]
  },
  {
   "cell_type": "code",
   "execution_count": null,
   "metadata": {},
   "outputs": [],
   "source": []
  }
 ],
 "metadata": {
  "kernelspec": {
   "display_name": "Python conda env:base",
   "language": "python",
   "name": "learn"
  },
  "language_info": {
   "codemirror_mode": {
    "name": "ipython",
    "version": 3
   },
   "file_extension": ".py",
   "mimetype": "text/x-python",
   "name": "python",
   "nbconvert_exporter": "python",
   "pygments_lexer": "ipython3",
   "version": "3.7.0"
  }
 },
 "nbformat": 4,
 "nbformat_minor": 2
}
